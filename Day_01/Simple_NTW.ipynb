{
 "cells": [
  {
   "cell_type": "markdown",
   "metadata": {},
   "source": [
    "# **Auther Name : [Muhammad Irfan](https://www.linkedin.com/in/muhammad-irfan-a15359247/)** "
   ]
  },
  {
   "cell_type": "markdown",
   "metadata": {},
   "source": [
    "# **What Is Neural Network ?**\n",
    "\n",
    "A neural network is a computer program inspired by the `brain` that learns from examples to recognize patterns and make decisions.\n"
   ]
  },
  {
   "cell_type": "markdown",
   "metadata": {},
   "source": [
    "## **Let Create a Simple Neural Network.**\n",
    "\n",
    "\n",
    "\n",
    "\n"
   ]
  },
  {
   "cell_type": "markdown",
   "metadata": {},
   "source": [
    "**Import Libraries**"
   ]
  },
  {
   "cell_type": "code",
   "execution_count": 32,
   "metadata": {},
   "outputs": [],
   "source": [
    "import warnings\n",
    "warnings.filterwarnings(\"ignore\")\n",
    "\n",
    "import pandas as pd \n",
    "import seaborn as sns \n",
    "import matplotlib.pyplot as plt \n",
    "import tensorflow as tf\n",
    "from sklearn.preprocessing import StandardScaler\n",
    "from sklearn.model_selection import train_test_split"
   ]
  },
  {
   "cell_type": "markdown",
   "metadata": {},
   "source": [
    "# **Load the Dataset & Preprocess**"
   ]
  },
  {
   "cell_type": "code",
   "execution_count": 33,
   "metadata": {},
   "outputs": [],
   "source": [
    "df = sns.load_dataset(\"titanic\")  \n",
    "\n",
    "# Drop row with the data missing values\n",
    "df.dropna(subset=[\"age\", \"embarked\"], inplace=True)\n",
    "\n",
    "# Convert Categorical Data into Numeric data using get dummies function\n",
    "df = pd.get_dummies(df,  columns=['sex', 'embarked', 'class', 'who', 'deck'])\n",
    "\n",
    "# Select Features and Target Variables \n",
    "X = df.drop(['survived', 'alive', 'embark_town', 'adult_male', 'alone'], axis=1)\n",
    "y = df['survived']\n",
    "\n",
    "# Split Data into X and y \n",
    "X_train, X_test, y_train, y_test = train_test_split(X, y, test_size=0.2, random_state=42)\n",
    "\n",
    "# Standardizing the data\n",
    "scaler = StandardScaler()\n",
    "X_train = scaler.fit_transform(X_train)\n",
    "X_test = scaler.transform(X_test)\n",
    "\n"
   ]
  },
  {
   "cell_type": "markdown",
   "metadata": {},
   "source": [
    "# **Build The Model With Neural Network**"
   ]
  },
  {
   "cell_type": "markdown",
   "metadata": {},
   "source": [
    " ## **`Why we Make Layers Before During to build the Model ?`**\n",
    "\n",
    " We create layers in a neural network to organize and process information at `different levels of abstraction`, allowing the model to learn complex patterns by building hierarchical representations of data.\n",
    "\n",
    "\n",
    "\n",
    "\n"
   ]
  },
  {
   "cell_type": "markdown",
   "metadata": {},
   "source": [
    "## `What is Early Stop Callback Function ?`\n",
    "\n",
    "The Early Stop Callback Function interrupts the training process of a machine learning model when a specified metric stops improving, preventing overfitting and enhancing generalization performance. \n",
    "\n",
    "It's commonly used in neural network training to halt iterations early based on predefined criteria, such as no improvement in **`validation loss`**.\n",
    "\n",
    "\n",
    "\n",
    "\n"
   ]
  },
  {
   "cell_type": "markdown",
   "metadata": {},
   "source": [
    "## `What is Validation Dataset ?`\n",
    "\n",
    "A validation dataset is a portion of the overall dataset that is set aside and **`not used during the training phase`** of a machine learning model. Instead, it is employed to evaluate the performance of the trained model, providing an indication of how well the model generalizes to unseen data.\n",
    "\n",
    "\n",
    "\n",
    "\n"
   ]
  },
  {
   "cell_type": "markdown",
   "metadata": {},
   "source": [
    "## `What is Validation Loss ?`\n",
    "\n",
    "- Validation loss is the error calculated on a separate dataset, evaluating the model's performance on unseen data.\n",
    "- It serves as a metric for assessing how well the model generalizes beyond the training data, with **`lower values indicating better performance`**."
   ]
  },
  {
   "cell_type": "code",
   "execution_count": 34,
   "metadata": {},
   "outputs": [],
   "source": [
    "# Define the Layers \n",
    "input_layer = tf.keras.layers.Dense(10, activation=\"relu\" , input_shape=[X_train.shape[1],])\n",
    "\n",
    "output_layer = tf.keras.layers.Dense(1 , activation= \"sigmoid\")\n",
    "\n",
    "# Import Early stop Function\n",
    "from tensorflow.keras.callbacks import EarlyStopping\n",
    "\n",
    "# Define The Call Back Function\n",
    "earlystop = EarlyStopping(patience=5)\n",
    "\n",
    "# Combine the Layers  into Model\n",
    "model = tf.keras.Sequential([input_layer, output_layer])\n",
    "\n",
    "# Compile the Model \n",
    "model.compile(optimizer=\"adam\" , \n",
    "              loss=\"binary_crossentropy\",\n",
    "              metrics = [\"accuracy\"])\n",
    " "
   ]
  },
  {
   "cell_type": "markdown",
   "metadata": {},
   "source": [
    "# **Fit The Model In Training Data**"
   ]
  },
  {
   "cell_type": "code",
   "execution_count": 35,
   "metadata": {},
   "outputs": [
    {
     "name": "stdout",
     "output_type": "stream",
     "text": [
      "Epoch 1/50\n"
     ]
    },
    {
     "name": "stdout",
     "output_type": "stream",
     "text": [
      "18/18 [==============================] - 1s 16ms/step - loss: 0.7990 - accuracy: 0.4464 - val_loss: 0.7631 - val_accuracy: 0.5245\n",
      "Epoch 2/50\n",
      "18/18 [==============================] - 0s 6ms/step - loss: 0.7332 - accuracy: 0.5940 - val_loss: 0.7102 - val_accuracy: 0.5944\n",
      "Epoch 3/50\n",
      "18/18 [==============================] - 0s 11ms/step - loss: 0.6833 - accuracy: 0.6696 - val_loss: 0.6655 - val_accuracy: 0.6503\n",
      "Epoch 4/50\n",
      "18/18 [==============================] - 0s 7ms/step - loss: 0.6395 - accuracy: 0.7065 - val_loss: 0.6265 - val_accuracy: 0.6783\n",
      "Epoch 5/50\n",
      "18/18 [==============================] - 0s 7ms/step - loss: 0.6018 - accuracy: 0.7293 - val_loss: 0.5910 - val_accuracy: 0.7343\n",
      "Epoch 6/50\n",
      "18/18 [==============================] - 0s 8ms/step - loss: 0.5656 - accuracy: 0.7487 - val_loss: 0.5631 - val_accuracy: 0.7413\n",
      "Epoch 7/50\n",
      "18/18 [==============================] - 0s 7ms/step - loss: 0.5357 - accuracy: 0.7768 - val_loss: 0.5415 - val_accuracy: 0.7552\n",
      "Epoch 8/50\n",
      "18/18 [==============================] - 0s 7ms/step - loss: 0.5110 - accuracy: 0.7873 - val_loss: 0.5231 - val_accuracy: 0.7762\n",
      "Epoch 9/50\n",
      "18/18 [==============================] - 0s 8ms/step - loss: 0.4897 - accuracy: 0.7891 - val_loss: 0.5096 - val_accuracy: 0.7762\n",
      "Epoch 10/50\n",
      "18/18 [==============================] - 0s 6ms/step - loss: 0.4729 - accuracy: 0.7979 - val_loss: 0.4988 - val_accuracy: 0.7832\n",
      "Epoch 11/50\n",
      "18/18 [==============================] - 0s 5ms/step - loss: 0.4588 - accuracy: 0.7961 - val_loss: 0.4914 - val_accuracy: 0.7902\n",
      "Epoch 12/50\n",
      "18/18 [==============================] - 0s 6ms/step - loss: 0.4479 - accuracy: 0.7961 - val_loss: 0.4842 - val_accuracy: 0.7902\n",
      "Epoch 13/50\n",
      "18/18 [==============================] - 0s 5ms/step - loss: 0.4381 - accuracy: 0.8032 - val_loss: 0.4785 - val_accuracy: 0.7902\n",
      "Epoch 14/50\n",
      "18/18 [==============================] - 0s 5ms/step - loss: 0.4306 - accuracy: 0.8067 - val_loss: 0.4740 - val_accuracy: 0.7762\n",
      "Epoch 15/50\n",
      "18/18 [==============================] - 0s 4ms/step - loss: 0.4238 - accuracy: 0.8067 - val_loss: 0.4722 - val_accuracy: 0.7692\n",
      "Epoch 16/50\n",
      "18/18 [==============================] - 0s 3ms/step - loss: 0.4183 - accuracy: 0.8067 - val_loss: 0.4702 - val_accuracy: 0.7692\n",
      "Epoch 17/50\n",
      "18/18 [==============================] - 0s 4ms/step - loss: 0.4141 - accuracy: 0.8102 - val_loss: 0.4682 - val_accuracy: 0.7622\n",
      "Epoch 18/50\n",
      "18/18 [==============================] - 0s 4ms/step - loss: 0.4097 - accuracy: 0.8084 - val_loss: 0.4665 - val_accuracy: 0.7762\n",
      "Epoch 19/50\n",
      "18/18 [==============================] - 0s 4ms/step - loss: 0.4057 - accuracy: 0.8137 - val_loss: 0.4655 - val_accuracy: 0.7762\n",
      "Epoch 20/50\n",
      "18/18 [==============================] - 0s 3ms/step - loss: 0.4029 - accuracy: 0.8190 - val_loss: 0.4646 - val_accuracy: 0.7692\n",
      "Epoch 21/50\n",
      "18/18 [==============================] - 0s 3ms/step - loss: 0.3996 - accuracy: 0.8207 - val_loss: 0.4622 - val_accuracy: 0.7762\n",
      "Epoch 22/50\n",
      "18/18 [==============================] - 0s 4ms/step - loss: 0.3969 - accuracy: 0.8207 - val_loss: 0.4621 - val_accuracy: 0.7692\n",
      "Epoch 23/50\n",
      "18/18 [==============================] - 0s 3ms/step - loss: 0.3943 - accuracy: 0.8260 - val_loss: 0.4607 - val_accuracy: 0.7692\n",
      "Epoch 24/50\n",
      "18/18 [==============================] - 0s 3ms/step - loss: 0.3920 - accuracy: 0.8330 - val_loss: 0.4602 - val_accuracy: 0.7762\n",
      "Epoch 25/50\n",
      "18/18 [==============================] - 0s 3ms/step - loss: 0.3900 - accuracy: 0.8366 - val_loss: 0.4603 - val_accuracy: 0.7762\n",
      "Epoch 26/50\n",
      "18/18 [==============================] - 0s 3ms/step - loss: 0.3878 - accuracy: 0.8313 - val_loss: 0.4602 - val_accuracy: 0.7832\n",
      "Epoch 27/50\n",
      "18/18 [==============================] - 0s 3ms/step - loss: 0.3859 - accuracy: 0.8348 - val_loss: 0.4602 - val_accuracy: 0.7902\n",
      "Epoch 28/50\n",
      "18/18 [==============================] - 0s 3ms/step - loss: 0.3841 - accuracy: 0.8348 - val_loss: 0.4595 - val_accuracy: 0.7902\n",
      "Epoch 29/50\n",
      "18/18 [==============================] - 0s 7ms/step - loss: 0.3822 - accuracy: 0.8366 - val_loss: 0.4591 - val_accuracy: 0.7972\n",
      "Epoch 30/50\n",
      "18/18 [==============================] - 0s 3ms/step - loss: 0.3805 - accuracy: 0.8348 - val_loss: 0.4596 - val_accuracy: 0.7972\n",
      "Epoch 31/50\n",
      "18/18 [==============================] - 0s 3ms/step - loss: 0.3792 - accuracy: 0.8330 - val_loss: 0.4593 - val_accuracy: 0.7972\n",
      "Epoch 32/50\n",
      "18/18 [==============================] - 0s 3ms/step - loss: 0.3783 - accuracy: 0.8348 - val_loss: 0.4602 - val_accuracy: 0.7902\n",
      "Epoch 33/50\n",
      "18/18 [==============================] - 0s 3ms/step - loss: 0.3765 - accuracy: 0.8313 - val_loss: 0.4599 - val_accuracy: 0.7972\n",
      "Epoch 34/50\n",
      "18/18 [==============================] - 0s 3ms/step - loss: 0.3756 - accuracy: 0.8313 - val_loss: 0.4596 - val_accuracy: 0.7832\n"
     ]
    }
   ],
   "source": [
    "history = model.fit(X_train , y_train , epochs=50 , verbose=1 , batch_size=32 ,\n",
    "          validation_data=(X_test,y_test),\n",
    "          callbacks = [earlystop])"
   ]
  },
  {
   "cell_type": "code",
   "execution_count": 36,
   "metadata": {},
   "outputs": [
    {
     "name": "stdout",
     "output_type": "stream",
     "text": [
      "5/5 [==============================] - 0s 2ms/step - loss: 0.4596 - accuracy: 0.7832\n",
      "Test Accuracy: 0.7832167744636536\n",
      "Test Loss: 0.45964550971984863\n"
     ]
    }
   ],
   "source": [
    "# Evaluating the model\n",
    "loss, accuracy = model.evaluate(X_test, y_test, verbose=1)\n",
    "print(f\"Test Accuracy: {accuracy}\")\n",
    "print(f\"Test Loss: {loss}\")"
   ]
  },
  {
   "cell_type": "code",
   "execution_count": 37,
   "metadata": {},
   "outputs": [
    {
     "data": {
      "image/png": "[encoded data removed]",
      "text/plain": [
       "<Figure size 640x480 with 1 Axes>"
      ]
     },
     "metadata": {},
     "output_type": "display_data"
    }
   ],
   "source": [
    "# Plotting the training and testing loss\n",
    "import matplotlib.pyplot as plt\n",
    "plt.plot(history.history['loss'])\n",
    "plt.plot(history.history['val_loss'])\n",
    "plt.title('Model loss')\n",
    "plt.ylabel('Loss')\n",
    "plt.xlabel('Epoch')\n",
    "plt.legend(['Train', 'Validation'], loc='upper right')\n",
    "plt.show()"
   ]
  }
 ],
 "metadata": {
  "kernelspec": {
   "display_name": "py_ml",
   "language": "python",
   "name": "python3"
  },
  "language_info": {
   "codemirror_mode": {
    "name": "ipython",
    "version": 3
   },
   "file_extension": ".py",
   "mimetype": "text/x-python",
   "name": "python",
   "nbconvert_exporter": "python",
   "pygments_lexer": "ipython3",
   "version": "3.11.7"
  }
 },
 "nbformat": 4,
 "nbformat_minor": 2
}
