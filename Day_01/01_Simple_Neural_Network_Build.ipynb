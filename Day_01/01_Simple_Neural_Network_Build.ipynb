{
 "cells": [
  {
   "cell_type": "markdown",
   "metadata": {},
   "source": [
    " \n",
    "---\n",
    "\n",
    " <span style=\"color: Yellow; font-size: 250%; font-weight: bold;\">Title : Create a Simple Neural Network in python Using \n",
    " Tensorflow</span>\n",
    " \n",
    " ---\n"
   ]
  },
  {
   "cell_type": "markdown",
   "metadata": {},
   "source": [
    "`Auther Name` : __Muhammad Irfan__\\\n",
    "`Email` : irfan.datalytics@gmail.com\\\n",
    "`Github` : https://github.com/irfan5006\\ \\\n",
    "`Linkedln` :https://www.linkedin.com/in/muhammad-irfan-a15359247\n",
    "\n",
    "`Date` : 24-Jan-2024"
   ]
  },
  {
   "cell_type": "markdown",
   "metadata": {},
   "source": [
    "\n",
    " <span style=\"color: skyblue; font-size: 150%; font-weight: bold;\">Defination of Neural Network</span>\n",
    "\n",
    " A neural network in deep learning is a `computational model` inspired by the human brain, composed of interconnected nodes organized into layers. It processes information through weighted connections, learning patterns and relationships in data to make `predictions` or `classifications`."
   ]
  },
  {
   "cell_type": "markdown",
   "metadata": {},
   "source": [
    "# **`Import Libraries`** "
   ]
  },
  {
   "cell_type": "code",
   "execution_count": 64,
   "metadata": {},
   "outputs": [],
   "source": [
    "# Handle The data \n",
    "import pandas as pd \n",
    "import numpy as np \n",
    "\n",
    "# For Visualize the data \n",
    "import matplotlib.pyplot as plt\n",
    "import seaborn as sns \n",
    "\n",
    "# For Split data and standardsscale\n",
    "from sklearn.preprocessing import StandardScaler\n",
    "from sklearn.model_selection import train_test_split\n",
    "\n",
    "# For Neural Network\n",
    "import tensorflow as tf\n"
   ]
  },
  {
   "cell_type": "markdown",
   "metadata": {},
   "source": [
    " \n",
    " <span style=\"color: orange; font-size: 250%; font-weight: bold;\">Steps before Creating a Neural Network (Preprocess the Data)</span>\n",
    "\n"
   ]
  },
  {
   "cell_type": "markdown",
   "metadata": {},
   "source": [
    "* **Missing Values**\n",
    "* **Outliers**\n",
    "* **Scaling**\n",
    "* **Encoding**"
   ]
  },
  {
   "cell_type": "code",
   "execution_count": 65,
   "metadata": {},
   "outputs": [
    {
     "data": {
      "text/html": [
       "<div>\n",
       "<style scoped>\n",
       "    .dataframe tbody tr th:only-of-type {\n",
       "        vertical-align: middle;\n",
       "    }\n",
       "\n",
       "    .dataframe tbody tr th {\n",
       "        vertical-align: top;\n",
       "    }\n",
       "\n",
       "    .dataframe thead th {\n",
       "        text-align: right;\n",
       "    }\n",
       "</style>\n",
       "<table border=\"1\" class=\"dataframe\">\n",
       "  <thead>\n",
       "    <tr style=\"text-align: right;\">\n",
       "      <th></th>\n",
       "      <th>survived</th>\n",
       "      <th>pclass</th>\n",
       "      <th>age</th>\n",
       "      <th>sibsp</th>\n",
       "      <th>parch</th>\n",
       "      <th>fare</th>\n",
       "      <th>adult_male</th>\n",
       "      <th>embark_town</th>\n",
       "      <th>alive</th>\n",
       "      <th>alone</th>\n",
       "      <th>sex_male</th>\n",
       "      <th>embarked_Q</th>\n",
       "      <th>embarked_S</th>\n",
       "      <th>class_Second</th>\n",
       "      <th>class_Third</th>\n",
       "      <th>who_man</th>\n",
       "      <th>who_woman</th>\n",
       "    </tr>\n",
       "  </thead>\n",
       "  <tbody>\n",
       "    <tr>\n",
       "      <th>0</th>\n",
       "      <td>0</td>\n",
       "      <td>3</td>\n",
       "      <td>22.0</td>\n",
       "      <td>1</td>\n",
       "      <td>0</td>\n",
       "      <td>7.2500</td>\n",
       "      <td>True</td>\n",
       "      <td>Southampton</td>\n",
       "      <td>no</td>\n",
       "      <td>False</td>\n",
       "      <td>True</td>\n",
       "      <td>False</td>\n",
       "      <td>True</td>\n",
       "      <td>False</td>\n",
       "      <td>True</td>\n",
       "      <td>True</td>\n",
       "      <td>False</td>\n",
       "    </tr>\n",
       "    <tr>\n",
       "      <th>1</th>\n",
       "      <td>1</td>\n",
       "      <td>1</td>\n",
       "      <td>38.0</td>\n",
       "      <td>1</td>\n",
       "      <td>0</td>\n",
       "      <td>71.2833</td>\n",
       "      <td>False</td>\n",
       "      <td>Cherbourg</td>\n",
       "      <td>yes</td>\n",
       "      <td>False</td>\n",
       "      <td>False</td>\n",
       "      <td>False</td>\n",
       "      <td>False</td>\n",
       "      <td>False</td>\n",
       "      <td>False</td>\n",
       "      <td>False</td>\n",
       "      <td>True</td>\n",
       "    </tr>\n",
       "    <tr>\n",
       "      <th>2</th>\n",
       "      <td>1</td>\n",
       "      <td>3</td>\n",
       "      <td>26.0</td>\n",
       "      <td>0</td>\n",
       "      <td>0</td>\n",
       "      <td>7.9250</td>\n",
       "      <td>False</td>\n",
       "      <td>Southampton</td>\n",
       "      <td>yes</td>\n",
       "      <td>True</td>\n",
       "      <td>False</td>\n",
       "      <td>False</td>\n",
       "      <td>True</td>\n",
       "      <td>False</td>\n",
       "      <td>True</td>\n",
       "      <td>False</td>\n",
       "      <td>True</td>\n",
       "    </tr>\n",
       "    <tr>\n",
       "      <th>3</th>\n",
       "      <td>1</td>\n",
       "      <td>1</td>\n",
       "      <td>35.0</td>\n",
       "      <td>1</td>\n",
       "      <td>0</td>\n",
       "      <td>53.1000</td>\n",
       "      <td>False</td>\n",
       "      <td>Southampton</td>\n",
       "      <td>yes</td>\n",
       "      <td>False</td>\n",
       "      <td>False</td>\n",
       "      <td>False</td>\n",
       "      <td>True</td>\n",
       "      <td>False</td>\n",
       "      <td>False</td>\n",
       "      <td>False</td>\n",
       "      <td>True</td>\n",
       "    </tr>\n",
       "    <tr>\n",
       "      <th>4</th>\n",
       "      <td>0</td>\n",
       "      <td>3</td>\n",
       "      <td>35.0</td>\n",
       "      <td>0</td>\n",
       "      <td>0</td>\n",
       "      <td>8.0500</td>\n",
       "      <td>True</td>\n",
       "      <td>Southampton</td>\n",
       "      <td>no</td>\n",
       "      <td>True</td>\n",
       "      <td>True</td>\n",
       "      <td>False</td>\n",
       "      <td>True</td>\n",
       "      <td>False</td>\n",
       "      <td>True</td>\n",
       "      <td>True</td>\n",
       "      <td>False</td>\n",
       "    </tr>\n",
       "  </tbody>\n",
       "</table>\n",
       "</div>"
      ],
      "text/plain": [
       "   survived  pclass   age  sibsp  parch     fare  adult_male  embark_town  \\\n",
       "0         0       3  22.0      1      0   7.2500        True  Southampton   \n",
       "1         1       1  38.0      1      0  71.2833       False    Cherbourg   \n",
       "2         1       3  26.0      0      0   7.9250       False  Southampton   \n",
       "3         1       1  35.0      1      0  53.1000       False  Southampton   \n",
       "4         0       3  35.0      0      0   8.0500        True  Southampton   \n",
       "\n",
       "  alive  alone  sex_male  embarked_Q  embarked_S  class_Second  class_Third  \\\n",
       "0    no  False      True       False        True         False         True   \n",
       "1   yes  False     False       False       False         False        False   \n",
       "2   yes   True     False       False        True         False         True   \n",
       "3   yes  False     False       False        True         False        False   \n",
       "4    no   True      True       False        True         False         True   \n",
       "\n",
       "   who_man  who_woman  \n",
       "0     True      False  \n",
       "1    False       True  \n",
       "2    False       True  \n",
       "3    False       True  \n",
       "4     True      False  "
      ]
     },
     "execution_count": 65,
     "metadata": {},
     "output_type": "execute_result"
    }
   ],
   "source": [
    "#remove warnings\n",
    "import warnings\n",
    "warnings.filterwarnings('ignore')\n",
    "\n",
    "# Load the dataset of titanic using sns \n",
    "df = sns.load_dataset('titanic')\n",
    "df.head()\n",
    "\n",
    "# Impute the Missing values using simpleimputer\n",
    "from sklearn.impute import SimpleImputer\n",
    "\n",
    "imputer = SimpleImputer(strategy='median')\n",
    "df['age'] = imputer.fit_transform(df[['age']])\n",
    "\n",
    "# Drop the deck column\n",
    "df.drop('deck',axis=1,inplace=True)\n",
    "\n",
    "# Converting categorical variables to dummy variables\n",
    "titanic = pd.get_dummies(df, columns=['sex', 'embarked', 'class', 'who'], drop_first=True)\n",
    "titanic.head()"
   ]
  },
  {
   "cell_type": "code",
   "execution_count": 66,
   "metadata": {},
   "outputs": [],
   "source": [
    "# Selecting features and target\n",
    "X = titanic.drop(['survived', 'alive', 'embark_town', 'adult_male', 'alone'], axis=1)\n",
    "y = titanic['survived']\n",
    "\n",
    "# Split the data\n",
    "X_train, X_test, y_train, y_test = train_test_split(X, y, test_size=0.2, random_state=42)\n",
    "\n",
    "# Standardizing the data\n",
    "scaler = StandardScaler()\n",
    "X_train = scaler.fit_transform(X_train)\n",
    "X_test = scaler.transform(X_test)\n"
   ]
  },
  {
   "cell_type": "code",
   "execution_count": 67,
   "metadata": {},
   "outputs": [],
   "source": [
    "# Build The Model\n",
    "\n",
    "# Define the Input layer of the model\n",
    "input_layer = tf.keras.layers.Dense(10, activation='relu', input_shape=(X_train.shape[1],))\n",
    "\n",
    "# Define The Output layer of the model\n",
    "output_layer =  tf.keras.layers.Dense(1, activation='sigmoid')\n",
    "\n",
    "# Combine The layer into the model\n",
    "model = tf.keras.models.Sequential([input_layer, output_layer])\n",
    "\n",
    "# Compile The Model\n",
    "history = model.compile(optimizer='adam', \n",
    "              loss='binary_crossentropy', \n",
    "              metrics=['accuracy'])\n"
   ]
  },
  {
   "cell_type": "code",
   "execution_count": 68,
   "metadata": {},
   "outputs": [
    {
     "name": "stdout",
     "output_type": "stream",
     "text": [
      "Epoch 1/20\n"
     ]
    },
    {
     "name": "stdout",
     "output_type": "stream",
     "text": [
      "23/23 [==============================] - 1s 3ms/step - loss: 0.7782 - accuracy: 0.3933\n",
      "Epoch 2/20\n",
      "23/23 [==============================] - 0s 4ms/step - loss: 0.6921 - accuracy: 0.5183\n",
      "Epoch 3/20\n",
      "23/23 [==============================] - 0s 4ms/step - loss: 0.6326 - accuracy: 0.6503\n",
      "Epoch 4/20\n",
      "23/23 [==============================] - 0s 3ms/step - loss: 0.5944 - accuracy: 0.6784\n",
      "Epoch 5/20\n",
      "23/23 [==============================] - 0s 4ms/step - loss: 0.5688 - accuracy: 0.7037\n",
      "Epoch 6/20\n",
      "23/23 [==============================] - 0s 3ms/step - loss: 0.5517 - accuracy: 0.7205\n",
      "Epoch 7/20\n",
      "23/23 [==============================] - 0s 3ms/step - loss: 0.5385 - accuracy: 0.7374\n",
      "Epoch 8/20\n",
      "23/23 [==============================] - 0s 4ms/step - loss: 0.5280 - accuracy: 0.7458\n",
      "Epoch 9/20\n",
      "23/23 [==============================] - 0s 4ms/step - loss: 0.5186 - accuracy: 0.7584\n",
      "Epoch 10/20\n",
      "23/23 [==============================] - 0s 4ms/step - loss: 0.5099 - accuracy: 0.7725\n",
      "Epoch 11/20\n",
      "23/23 [==============================] - 0s 4ms/step - loss: 0.5012 - accuracy: 0.7879\n",
      "Epoch 12/20\n",
      "23/23 [==============================] - 0s 4ms/step - loss: 0.4935 - accuracy: 0.7949\n",
      "Epoch 13/20\n",
      "23/23 [==============================] - 0s 4ms/step - loss: 0.4854 - accuracy: 0.8090\n",
      "Epoch 14/20\n",
      "23/23 [==============================] - 0s 4ms/step - loss: 0.4785 - accuracy: 0.8160\n",
      "Epoch 15/20\n",
      "23/23 [==============================] - 0s 4ms/step - loss: 0.4715 - accuracy: 0.8188\n",
      "Epoch 16/20\n",
      "23/23 [==============================] - 0s 5ms/step - loss: 0.4652 - accuracy: 0.8216\n",
      "Epoch 17/20\n",
      "23/23 [==============================] - 0s 4ms/step - loss: 0.4595 - accuracy: 0.8216\n",
      "Epoch 18/20\n",
      "23/23 [==============================] - 0s 5ms/step - loss: 0.4539 - accuracy: 0.8216\n",
      "Epoch 19/20\n",
      "23/23 [==============================] - 0s 5ms/step - loss: 0.4490 - accuracy: 0.8202\n",
      "Epoch 20/20\n",
      "23/23 [==============================] - 0s 5ms/step - loss: 0.4448 - accuracy: 0.8188\n",
      "CPU times: total: 4.61 s\n",
      "Wall time: 3.45 s\n"
     ]
    }
   ],
   "source": [
    "%%time\n",
    "\n",
    "history= model.fit(X_train, y_train, epochs=20, batch_size=32, verbose=1)"
   ]
  },
  {
   "cell_type": "code",
   "execution_count": 69,
   "metadata": {},
   "outputs": [
    {
     "name": "stdout",
     "output_type": "stream",
     "text": [
      "6/6 [==============================] - 0s 4ms/step - loss: 0.4380 - accuracy: 0.8045\n",
      "Test Accuracy: 0.8044692873954773\n",
      "Test Loss: 0.4379996061325073\n"
     ]
    }
   ],
   "source": [
    "# Evaluating the model\n",
    "loss, accuracy = model.evaluate(X_test, y_test, verbose=1)\n",
    "print(f\"Test Accuracy: {accuracy}\")\n",
    "print(f\"Test Loss: {loss}\")"
   ]
  },
  {
   "cell_type": "markdown",
   "metadata": {},
   "source": [
    "---"
   ]
  }
 ],
 "metadata": {
  "kernelspec": {
   "display_name": "tf_env",
   "language": "python",
   "name": "python3"
  },
  "language_info": {
   "codemirror_mode": {
    "name": "ipython",
    "version": 3
   },
   "file_extension": ".py",
   "mimetype": "text/x-python",
   "name": "python",
   "nbconvert_exporter": "python",
   "pygments_lexer": "ipython3",
   "version": "3.8.18"
  }
 },
 "nbformat": 4,
 "nbformat_minor": 2
}
